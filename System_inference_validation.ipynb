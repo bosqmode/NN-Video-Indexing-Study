{
 "cells": [
  {
   "cell_type": "code",
   "execution_count": 7,
   "metadata": {},
   "outputs": [],
   "source": [
    "import cv2\n",
    "import numpy as np\n",
    "import os\n",
    "import datetime\n",
    "from coco_final_labels_transfer import labels as coco_labels_transfer\n",
    "import io\n",
    "from scipy.spatial import distance\n",
    "import time\n",
    "import requests\n",
    "import matplotlib.pyplot as plt"
   ]
  },
  {
   "cell_type": "code",
   "execution_count": 3,
   "metadata": {},
   "outputs": [],
   "source": [
    "URL = \"http://localhost:5000\""
   ]
  },
  {
   "cell_type": "code",
   "execution_count": 101,
   "metadata": {},
   "outputs": [],
   "source": [
    "def get_metadata(filename):\n",
    "    print(filename)\n",
    "    video = cv2.VideoCapture(filename)\n",
    "    framecount = int(video.get(cv2.CAP_PROP_FRAME_COUNT))\n",
    "    fps = video.get(cv2.CAP_PROP_FPS)\n",
    "    return framecount, fps\n",
    "\n",
    "\n",
    "def validate_file(filename):\n",
    "    framecount, fps = get_metadata(f'data/testvideos/{filename}')\n",
    "\n",
    "    r = requests.get(url=f'{URL}/files')\n",
    "    file = [x for x in r.json()['results'] if x['filepath'].endswith(filename)][0]\n",
    "    payload = {'file_id':file['id']}\n",
    "    r = requests.get(url=f'{URL}/detections/fileid', json=payload)\n",
    "    detections = r.json()['results']\n",
    "    \n",
    "    Y = []\n",
    "\n",
    "    f = open(f'data/testvideos/{filename.replace(\".mp4\", \".txt\")}', 'r')\n",
    "    for line in f.readlines():\n",
    "        startframe, endframe, categories = line.split(':')\n",
    "        startframe = int(startframe)\n",
    "        endframe = int(endframe)\n",
    "        categories = [x for x in categories.split(',')]\n",
    "        for frame in range(startframe, endframe):\n",
    "            for category in categories:\n",
    "                Y.append((frame, coco_labels_transfer.index(category.strip())))\n",
    "\n",
    "    Y_hat = []\n",
    "\n",
    "    for detection in detections:\n",
    "        frame = round(detection['video_ts']/1000.0 * fps)\n",
    "        Y_hat.append((frame, coco_labels_transfer.index(detection['category'])))\n",
    "\n",
    "    matches = []\n",
    "    for label in Y:\n",
    "        for guess in Y_hat:\n",
    "            if label[0] == guess[0] and label[1] == guess[1]:\n",
    "                matches.append(guess)\n",
    "\n",
    "    x,y = np.array(Y).T\n",
    "    x1,y1 = np.array(Y_hat).T\n",
    "    x2,y2 = np.array(matches).T\n",
    "\n",
    "    fig, ax = plt.subplots()\n",
    "\n",
    "    ax.set_xlabel(\"video frame\")\n",
    "    ax.set_ylabel(\"class index\")\n",
    "    ax.scatter(x,y,c='royalblue', s=10, marker=\"s\")\n",
    "    ax.scatter(x1,y1,c='tomato', s=10, marker=\"s\")\n",
    "    ax.scatter(x2,y2,c='limegreen', s=10, marker=\"s\")\n",
    "    plt.show()\n",
    "\n",
    "    f.close()"
   ]
  },
  {
   "cell_type": "code",
   "execution_count": 102,
   "metadata": {},
   "outputs": [
    {
     "name": "stdout",
     "output_type": "stream",
     "text": [
      "data/testvideos/hesperiankatu.mp4\n"
     ]
    },
    {
     "data": {
      "image/png": "[encoded data removed]",
      "text/plain": [
       "<Figure size 432x288 with 1 Axes>"
      ]
     },
     "metadata": {
      "needs_background": "light"
     },
     "output_type": "display_data"
    },
    {
     "name": "stdout",
     "output_type": "stream",
     "text": [
      "data/testvideos/f1.mp4\n"
     ]
    },
    {
     "data": {
      "image/png": "[encoded data removed]",
      "text/plain": [
       "<Figure size 432x288 with 1 Axes>"
      ]
     },
     "metadata": {
      "needs_background": "light"
     },
     "output_type": "display_data"
    },
    {
     "name": "stdout",
     "output_type": "stream",
     "text": [
      "data/testvideos/apartment.mp4\n"
     ]
    },
    {
     "data": {
      "image/png": "[encoded data removed]",
      "text/plain": [
       "<Figure size 432x288 with 1 Axes>"
      ]
     },
     "metadata": {
      "needs_background": "light"
     },
     "output_type": "display_data"
    }
   ],
   "source": [
    "validate_file('hesperiankatu.mp4')\n",
    "validate_file('f1.mp4')\n",
    "validate_file('apartment.mp4')"
   ]
  }
 ],
 "metadata": {
  "interpreter": {
   "hash": "2f7689cbb1557490bb7237f90f0f73210ec72ad5d7f089fed20fb4d5142ddbe1"
  },
  "kernelspec": {
   "display_name": "Python 3.8.10 ('.venv': venv)",
   "language": "python",
   "name": "python3"
  },
  "language_info": {
   "codemirror_mode": {
    "name": "ipython",
    "version": 3
   },
   "file_extension": ".py",
   "mimetype": "text/x-python",
   "name": "python",
   "nbconvert_exporter": "python",
   "pygments_lexer": "ipython3",
   "version": "3.8.10"
  },
  "orig_nbformat": 4
 },
 "nbformat": 4,
 "nbformat_minor": 2
}
